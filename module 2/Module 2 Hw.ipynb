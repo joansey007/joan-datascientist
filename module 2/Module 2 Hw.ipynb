{
 "cells": [
  {
   "cell_type": "markdown",
   "metadata": {},
   "source": [
    "Data Structures Exercises\n"
   ]
  },
  {
   "cell_type": "markdown",
   "metadata": {},
   "source": [
    "Exercise 1\n",
    "\n",
    "\n",
    "In mathematics, the quadratic equation ax2+bx+c=0 can be solved with the formula x=−b±b2−4ac√2a.\n",
    "\n",
    "Write a function solve_quadratic, that returns both solutions of a generic quadratic as a pair (2-tuple) when the coefficients are given as parameters. It should work like this:\n",
    "\n",
    "print(solve_quadratic(1,-3,2))\n",
    "(2.0,1.0)\n",
    "print(solve_quadratic(1,2,1))\n",
    "(-1.0,-1.0)\n",
    "You may want to use the math.sqrt function from the math module in your solution. Test that your function works in the main function!"
   ]
  },
  {
   "cell_type": "code",
   "execution_count": 10,
   "metadata": {},
   "outputs": [
    {
     "name": "stdout",
     "output_type": "stream",
     "text": [
      "(2.0, 1.0)\n"
     ]
    }
   ],
   "source": [
    "    import math\n",
    "    \n",
    "    def solve_quadratic(a, b, c):\n",
    "    \n",
    "          add = (-b + math.sqrt (b ** 2 - (4 * a * c))) / (2 * a)        \n",
    "          sub = (-b - math.sqrt (b ** 2 - (4 * a * c))) / (2 * a)        \n",
    " \n",
    "          sol = (add , sub)\n",
    "          return sol\n",
    "    print(solve_quadratic(1, -3, 2))\n",
    "        \n",
    " "
   ]
  },
  {
   "cell_type": "markdown",
   "metadata": {},
   "source": [
    "Exercise 2\n",
    "\n",
    "Get a space-separated list of integers from the user, create a tuple of those integers. Then compute and print the result of hash(tuple).\n",
    "\n",
    "Documentation: hash():"
   ]
  },
  {
   "cell_type": "code",
   "execution_count": 27,
   "metadata": {},
   "outputs": [
    {
     "name": "stdout",
     "output_type": "stream",
     "text": [
      "Enter number of integers : 3\n",
      "2 \n",
      "5\n",
      "6\n",
      "[2, 5, 6]\n",
      "(2, 5, 6)\n",
      "The hash is: 3789702495195489110\n"
     ]
    }
   ],
   "source": [
    "list= []\n",
    "\n",
    "n = int(input(\"Enter number of integers : \"))\n",
    "\n",
    "for i in range(0, n):\n",
    "\n",
    "  item = int(input())\n",
    "\n",
    "  list.append(item)\n",
    "\n",
    "print(list)\n",
    "\n",
    "tupl=tuple(list) \n",
    "\n",
    "print(tupl)\n",
    "\n",
    "print('The hash is:',hash(tupl))"
   ]
  },
  {
   "cell_type": "code",
   "execution_count": 46,
   "metadata": {},
   "outputs": [
    {
     "name": "stdout",
     "output_type": "stream",
     "text": [
      "Plz enter a list of space separated integers:2 5 6\n",
      "(2, 5, 6)\n",
      "3789702495195489110\n"
     ]
    }
   ],
   "source": [
    "# another solution for Exercise 2                        \n",
    "tupl=tuple(map(int,input(\"Plz enter a list of space separated integers:\").split()))\n",
    "print(tupl)\n",
    "print(hash(tupl))"
   ]
  },
  {
   "cell_type": "markdown",
   "metadata": {},
   "source": [
    "Exercise 3\n",
    "\n",
    "Take the following two lists. Create a third list by picking a odd-index elements from the first list and even-index elements from the second.\n",
    "\n",
    "listOne = [3, 6, 9, 12, 15, 18, 21]\n",
    "listTwo = [4, 8, 12, 16, 20, 24, 28]\n"
   ]
  },
  {
   "cell_type": "code",
   "execution_count": 12,
   "metadata": {},
   "outputs": [
    {
     "name": "stdout",
     "output_type": "stream",
     "text": [
      "Odd-one: [6, 12, 18]\n",
      "Even-two: [4, 12, 20, 28]\n",
      "listThree: [6, 12, 18, 4, 12, 20, 28]\n"
     ]
    }
   ],
   "source": [
    "listOne = [3, 6, 9, 12, 15, 18, 21]\n",
    "listTwo = [4, 8, 12, 16, 20, 24, 28]\n",
    "odd = [] \n",
    "for i in range(0,len(listOne)): \n",
    "        if i%2!=0: \n",
    "          odd.append(listOne[i])\n",
    "print(\"Odd-one:\", odd) \n",
    "\n",
    "even = []              \n",
    "for j in range(0,len(listTwo)):\n",
    "       if j%2==0:     \n",
    "        even.append(listTwo[j])\n",
    "print(\"Even-two:\", even)\n",
    "\n",
    "list = odd + even\n",
    "print(\"listThree:\", list)\n",
    "                         "
   ]
  },
  {
   "cell_type": "code",
   "execution_count": 29,
   "metadata": {},
   "outputs": [
    {
     "name": "stdout",
     "output_type": "stream",
     "text": [
      "[6, 12, 18, 4, 12, 20, 28]\n"
     ]
    }
   ],
   "source": [
    "# another solution for exercise 3\n",
    "listOne=[3, 6, 9, 12, 15, 18, 21]\n",
    "listTwo=[4, 8, 12, 16, 20, 24, 28]\n",
    "listThree=listOne[1::2]# odd indices selected\n",
    "listThree+=listTwo[::2]# even indices selected and added\n",
    "print(listThree)\n"
   ]
  },
  {
   "cell_type": "markdown",
   "metadata": {},
   "source": [
    "Exercise 4\n",
    "\n",
    "Take the following list. Slice it into three equal chunks and reverse each list.\n",
    "\n",
    " samplelist= [11,45, 8, 23, 14, 12, 78, 45, 89]\n"
   ]
  },
  {
   "cell_type": "code",
   "execution_count": 34,
   "metadata": {},
   "outputs": [
    {
     "name": "stdout",
     "output_type": "stream",
     "text": [
      "[[11, 45, 8], [23, 14, 12], [78, 45, 89]]\n",
      "[[8, 45, 11], [12, 14, 23], [89, 45, 78]]\n"
     ]
    }
   ],
   "source": [
    "samplelist= [11,45, 8, 23, 14, 12, 78, 45, 89]\n",
    "\n",
    "l = [samplelist[i:i+3] for i in range(0, len(samplelist), 3)]\n",
    "print(l)\n",
    "reversed_list = [elem[::-1] for elem in l]\n",
    "\n",
    "print(reversed_list)"
   ]
  },
  {
   "cell_type": "code",
   "execution_count": 33,
   "metadata": {},
   "outputs": [
    {
     "name": "stdout",
     "output_type": "stream",
     "text": [
      "[8, 45, 11] [12, 14, 23] [89, 45, 78]\n"
     ]
    }
   ],
   "source": [
    "# another solution for Exercise 4\n",
    "samplelist= [11,45, 8, 23, 14, 12, 78, 45, 89]\n",
    "block1=samplelist[-7:-10:-1]\n",
    "block2=samplelist[-4:-7:-1]\n",
    "block3=samplelist[:-4:-1]\n",
    "\n",
    "print(block1,block2,block3)"
   ]
  },
  {
   "cell_type": "markdown",
   "metadata": {},
   "source": [
    "Exercise 5\n",
    "Iterate through a given list and check if a given element already exists in a dictionary as a key’s value. If not, delete it from the list.\n",
    "\n",
    "rollNumber = [47, 64, 69, 37, 76, 83, 95, 97]\n",
    "sampleDict ={'Zach':47, 'Emma':69, 'Kelly':76, 'Jason':97}\n"
   ]
  },
  {
   "cell_type": "code",
   "execution_count": 45,
   "metadata": {},
   "outputs": [
    {
     "name": "stdout",
     "output_type": "stream",
     "text": [
      "[47, 69, 76, 97]\n"
     ]
    }
   ],
   "source": [
    "\n",
    "rollNumber = [47, 64, 69, 37, 76, 83, 95, 97]\n",
    "sampleDict ={'Zach':47, 'Emma':69, 'Kelly':76, 'Jason':97} \n",
    "\n",
    "tracking=[]\n",
    "for i in rollNumber:\n",
    "        if i not in sampleDict.values():\n",
    "            tracking.append(i)\n",
    "for j in tracking:\n",
    "        if j in rollNumber:\n",
    "            rollNumber.remove(j)\n",
    "print(rollNumber)            "
   ]
  },
  {
   "cell_type": "code",
   "execution_count": null,
   "metadata": {},
   "outputs": [],
   "source": []
  }
 ],
 "metadata": {
  "kernelspec": {
   "display_name": "Python 3",
   "language": "python",
   "name": "python3"
  },
  "language_info": {
   "codemirror_mode": {
    "name": "ipython",
    "version": 3
   },
   "file_extension": ".py",
   "mimetype": "text/x-python",
   "name": "python",
   "nbconvert_exporter": "python",
   "pygments_lexer": "ipython3",
   "version": "3.6.5"
  }
 },
 "nbformat": 4,
 "nbformat_minor": 2
}
